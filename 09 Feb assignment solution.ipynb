{
 "cells": [
  {
   "cell_type": "markdown",
   "id": "e50aaa45",
   "metadata": {},
   "source": [
    "Q1. Create a vehicle class with an init method having instance variables as name_of_vehicle, max_speed \n",
    "and average_of_vehicle."
   ]
  },
  {
   "cell_type": "code",
   "execution_count": 5,
   "id": "0cf995fe",
   "metadata": {},
   "outputs": [],
   "source": [
    "class vehicle:\n",
    "    \n",
    "    def __init__(self,name_of_vehicle , max_speed, average_of_vehicle):\n",
    "        \n",
    "        self.name_of_vehicle = name_of_vehicle\n",
    "        self.max_speed = max_speed\n",
    "        self.average_of_vehicle = average_of_vehicle\n",
    "        \n",
    "    def return_vehicle_details(self):\n",
    "        return self.name_of_vehicle, self.max_speed, self.average_of_vehicle\n",
    "        \n",
    "    "
   ]
  },
  {
   "cell_type": "code",
   "execution_count": 8,
   "id": "34efe70a",
   "metadata": {},
   "outputs": [],
   "source": [
    "car = vehicle(\"jaguar\",250 ,\"70 km/l\" )"
   ]
  },
  {
   "cell_type": "code",
   "execution_count": 9,
   "id": "c7b16ee8",
   "metadata": {},
   "outputs": [
    {
     "data": {
      "text/plain": [
       "('jaguar', 250, '70 km/l')"
      ]
     },
     "execution_count": 9,
     "metadata": {},
     "output_type": "execute_result"
    }
   ],
   "source": [
    "car.return_vehicle_details()"
   ]
  },
  {
   "cell_type": "markdown",
   "id": "b7053313",
   "metadata": {},
   "source": [
    "Q2.  Create a child class car from the vehicle class created in Que 1, which will inherit the vehicle class. \n",
    "Create a method named seating_capacity which takes capacity as an argument and returns the name of \n",
    "the vehicle and its seating capacity."
   ]
  },
  {
   "cell_type": "code",
   "execution_count": 20,
   "id": "6bcbc472",
   "metadata": {},
   "outputs": [],
   "source": [
    "class vehicle1:\n",
    "    \n",
    "    def __init__(self,name_of_vehicle , max_speed, average_of_vehicle):\n",
    "        \n",
    "        self.name_of_vehicle = name_of_vehicle\n",
    "        self.max_speed = max_speed\n",
    "        self.average_of_vehicle = average_of_vehicle\n",
    "        \n",
    "    @classmethod\n",
    "    def name(cls,seating_capacity):\n",
    "        return cls(seating_capacity)\n",
    "        \n",
    "    def return_vehicle_details(self):\n",
    "        return self.name_of_vehicle, self.max_speed, self.average_of_vehicle"
   ]
  },
  {
   "cell_type": "code",
   "execution_count": 21,
   "id": "0c66ac60",
   "metadata": {},
   "outputs": [
    {
     "ename": "TypeError",
     "evalue": "vehicle1.__init__() missing 2 required positional arguments: 'max_speed' and 'average_of_vehicle'",
     "output_type": "error",
     "traceback": [
      "\u001b[1;31m---------------------------------------------------------------------------\u001b[0m",
      "\u001b[1;31mTypeError\u001b[0m                                 Traceback (most recent call last)",
      "Cell \u001b[1;32mIn[21], line 1\u001b[0m\n\u001b[1;32m----> 1\u001b[0m car \u001b[38;5;241m=\u001b[39m \u001b[43mvehicle1\u001b[49m\u001b[38;5;241;43m.\u001b[39;49m\u001b[43mname\u001b[49m\u001b[43m(\u001b[49m\u001b[38;5;124;43m\"\u001b[39;49m\u001b[38;5;124;43mseating capacity are six person\u001b[39;49m\u001b[38;5;124;43m\"\u001b[39;49m\u001b[43m)\u001b[49m\n",
      "Cell \u001b[1;32mIn[20], line 11\u001b[0m, in \u001b[0;36mvehicle1.name\u001b[1;34m(cls, seating_capacity)\u001b[0m\n\u001b[0;32m      9\u001b[0m \u001b[38;5;129m@classmethod\u001b[39m\n\u001b[0;32m     10\u001b[0m \u001b[38;5;28;01mdef\u001b[39;00m \u001b[38;5;21mname\u001b[39m(\u001b[38;5;28mcls\u001b[39m,seating_capacity):\n\u001b[1;32m---> 11\u001b[0m     \u001b[38;5;28;01mreturn\u001b[39;00m \u001b[38;5;28;43mcls\u001b[39;49m\u001b[43m(\u001b[49m\u001b[43mseating_capacity\u001b[49m\u001b[43m)\u001b[49m\n",
      "\u001b[1;31mTypeError\u001b[0m: vehicle1.__init__() missing 2 required positional arguments: 'max_speed' and 'average_of_vehicle'"
     ]
    }
   ],
   "source": [
    "car = vehicle1.name(\"seating capacity are six person\")"
   ]
  },
  {
   "cell_type": "markdown",
   "id": "75704555",
   "metadata": {},
   "source": [
    "Q2. correct answer--- "
   ]
  },
  {
   "cell_type": "code",
   "execution_count": 46,
   "id": "cebd4210",
   "metadata": {},
   "outputs": [],
   "source": [
    "class vehicle:\n",
    "    def __init__(self, name_of_vehicle, max_speed, average_of_vehicle):\n",
    "        self.name_of_vehicle = name_of_vehicle\n",
    "        self.max_speed = max_speed\n",
    "        self.average_of_vehicle = average_of_vehicle\n",
    "        "
   ]
  },
  {
   "cell_type": "code",
   "execution_count": 47,
   "id": "d02308d4",
   "metadata": {},
   "outputs": [
    {
     "ename": "IndentationError",
     "evalue": "expected an indented block after function definition on line 6 (2582317262.py, line 7)",
     "output_type": "error",
     "traceback": [
      "\u001b[1;36m  Cell \u001b[1;32mIn[47], line 7\u001b[1;36m\u001b[0m\n\u001b[1;33m    return f\"{self.name_of_vehicle} has a seating capacity of {capacity} passenger\"\u001b[0m\n\u001b[1;37m    ^\u001b[0m\n\u001b[1;31mIndentationError\u001b[0m\u001b[1;31m:\u001b[0m expected an indented block after function definition on line 6\n"
     ]
    }
   ],
   "source": [
    "class car(vehicle): \n",
    "    \n",
    "    def __init__(self,name_of_vehicle, max_speed, average_of_vehicle):\n",
    "        super().__init__(name_of_vehicle, max_speed, average_of_vehicle)\n",
    "        \n",
    "    def seating_capacity(self, capacity):\n",
    "    return f\"{self.name_of_vehicle} has a seating capacity of {capacity} passenger\""
   ]
  },
  {
   "cell_type": "code",
   "execution_count": 48,
   "id": "d3617072",
   "metadata": {},
   "outputs": [
    {
     "name": "stdout",
     "output_type": "stream",
     "text": [
      "suzuki model  has a seating capacity of passenger \n"
     ]
    }
   ],
   "source": [
    "my_car = car(\"suzuki model \",250,70)\n",
    "print(my_car.seating_capacity(6))"
   ]
  },
  {
   "cell_type": "markdown",
   "id": "f087b84a",
   "metadata": {},
   "source": [
    "Q3. What is multiple inheritance? Write a python code to demonstrate multiple inheritance."
   ]
  },
  {
   "cell_type": "markdown",
   "id": "31587a9d",
   "metadata": {},
   "source": [
    "Ans--  Multiple inheritance :- A class can inherit the attributes of two or more classes. this is known as multiple inheritance. Multiple inheritance allows us to combine the features of several existing calsses as a starting point for defining new classes. it's like a child inheritance the physical features of one parent and the intelligence of another."
   ]
  },
  {
   "cell_type": "code",
   "execution_count": 49,
   "id": "d26d0a1c",
   "metadata": {},
   "outputs": [],
   "source": [
    "class manish:\n",
    "    \n",
    "    def test_manish(self):\n",
    "        return \"this answer given by manish vishwakarma\""
   ]
  },
  {
   "cell_type": "code",
   "execution_count": 50,
   "id": "213564ff",
   "metadata": {},
   "outputs": [],
   "source": [
    "class ankur:\n",
    "    \n",
    "    def test_ankur(self):\n",
    "        return \"this answer given by manish vishwakarma\""
   ]
  },
  {
   "cell_type": "code",
   "execution_count": 51,
   "id": "475e690e",
   "metadata": {},
   "outputs": [],
   "source": [
    "class sudhanshu_sir(manish, ankur):\n",
    "    pass"
   ]
  },
  {
   "cell_type": "code",
   "execution_count": 52,
   "id": "774693a6",
   "metadata": {},
   "outputs": [],
   "source": [
    "obj_sudhanshu_sir = sudhanshu_sir()"
   ]
  },
  {
   "cell_type": "code",
   "execution_count": 53,
   "id": "20674328",
   "metadata": {},
   "outputs": [
    {
     "ename": "NameError",
     "evalue": "name 'obj_manish' is not defined",
     "output_type": "error",
     "traceback": [
      "\u001b[1;31m---------------------------------------------------------------------------\u001b[0m",
      "\u001b[1;31mNameError\u001b[0m                                 Traceback (most recent call last)",
      "Cell \u001b[1;32mIn[53], line 1\u001b[0m\n\u001b[1;32m----> 1\u001b[0m \u001b[43mobj_manish\u001b[49m\u001b[38;5;241m.\u001b[39mtest_manish()\n",
      "\u001b[1;31mNameError\u001b[0m: name 'obj_manish' is not defined"
     ]
    }
   ],
   "source": [
    "obj_manish.test_manish()"
   ]
  },
  {
   "cell_type": "code",
   "execution_count": 54,
   "id": "dbb8802e",
   "metadata": {},
   "outputs": [
    {
     "data": {
      "text/plain": [
       "'this answer given by manish vishwakarma'"
      ]
     },
     "execution_count": 54,
     "metadata": {},
     "output_type": "execute_result"
    }
   ],
   "source": [
    "obj_sudhanshu_sir.test_manish()"
   ]
  },
  {
   "cell_type": "code",
   "execution_count": 55,
   "id": "9a47b938",
   "metadata": {},
   "outputs": [
    {
     "data": {
      "text/plain": [
       "'this answer given by manish vishwakarma'"
      ]
     },
     "execution_count": 55,
     "metadata": {},
     "output_type": "execute_result"
    }
   ],
   "source": [
    "obj_sudhanshu_sir.test_ankur()"
   ]
  },
  {
   "cell_type": "markdown",
   "id": "1d3f03cf",
   "metadata": {},
   "source": [
    "Q4. What are getter and setter in python? Create a class and create a getter and a setter method in this \n",
    "class."
   ]
  },
  {
   "cell_type": "markdown",
   "id": "2372f478",
   "metadata": {},
   "source": [
    "Ans-- Getter and setter are methods used in object-oriented programming to access and modify the attributes of an object in a controlled way.\n",
    "\n",
    "A getter method is used to retrieve the value of an attribute, while a setter method is used to set or update the value of an attribute. By using these methods, we can control the access to the attributes of an object and validate the input values before setting them"
   ]
  },
  {
   "cell_type": "code",
   "execution_count": 65,
   "id": "86621f9a",
   "metadata": {},
   "outputs": [],
   "source": [
    "class students:\n",
    "    \n",
    "    def __init__(self, name, age):\n",
    "        self.name = name\n",
    "        self.age = age \n",
    "        \n",
    "        #getter method\n",
    "        \n",
    "    def get_age(self):\n",
    "        return self.age\n",
    "    \n",
    "        #setter method\n",
    "        \n",
    "    def set_age(self,age):\n",
    "        if age < 0:\n",
    "            print(\"age can not be negative\")\n",
    "        else:\n",
    "            self.age = age\n",
    "        "
   ]
  },
  {
   "cell_type": "code",
   "execution_count": 66,
   "id": "5b4ac037",
   "metadata": {},
   "outputs": [
    {
     "name": "stdout",
     "output_type": "stream",
     "text": [
      "19\n"
     ]
    }
   ],
   "source": [
    "students = students(\"manish\" , 19)\n",
    "print(students.get_age())"
   ]
  },
  {
   "cell_type": "markdown",
   "id": "c80b656c",
   "metadata": {},
   "source": [
    "Q5. what is method overriding in python? write a python code to demonstrate method overriding."
   ]
  },
  {
   "cell_type": "markdown",
   "id": "3fb12bfa",
   "metadata": {},
   "source": [
    "Ans -  Method overriding is a feature of object-oriented programming in which a subclass provides its own implementation of a method that is already defined in its superclass. The subclass can override the implementation of the method inherited from its parent class to provide a new or modified behavior."
   ]
  },
  {
   "cell_type": "code",
   "execution_count": 82,
   "id": "0271ccd5",
   "metadata": {},
   "outputs": [],
   "source": [
    "class Animals:\n",
    "    \n",
    "    def make_sound(self):\n",
    "        print(\"the animal makes a sound.\")\n",
    "        \n",
    "class cat(Animals):\n",
    "    \n",
    "    def make_sound(self):\n",
    "        print(\"the cat  meows.\")"
   ]
  },
  {
   "cell_type": "code",
   "execution_count": 92,
   "id": "c531863f",
   "metadata": {},
   "outputs": [
    {
     "name": "stdout",
     "output_type": "stream",
     "text": [
      "the animal makes a sound.\n",
      "the cat  meows.\n"
     ]
    }
   ],
   "source": [
    "animals = Animals()\n",
    "animals.make_sound()\n",
    "cats = cat\n",
    "cat.make_sound()"
   ]
  },
  {
   "cell_type": "code",
   "execution_count": null,
   "id": "48d5d82c",
   "metadata": {},
   "outputs": [],
   "source": []
  }
 ],
 "metadata": {
  "kernelspec": {
   "display_name": "Python 3 (ipykernel)",
   "language": "python",
   "name": "python3"
  },
  "language_info": {
   "codemirror_mode": {
    "name": "ipython",
    "version": 3
   },
   "file_extension": ".py",
   "mimetype": "text/x-python",
   "name": "python",
   "nbconvert_exporter": "python",
   "pygments_lexer": "ipython3",
   "version": "3.10.10"
  }
 },
 "nbformat": 4,
 "nbformat_minor": 5
}
